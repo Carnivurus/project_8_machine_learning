{
 "cells": [
  {
   "cell_type": "markdown",
   "metadata": {},
   "source": [
    "# Project 8 : Megaline Machine Learning Algoritms\n",
    "\n",
    "The purpose of this project is to demonstrate the skills to perform an analysis developing a model which can analize the behaviour of the clients for the company Megaline (telecommunications company) and recomend a data plan (Smart or Ultra) for each user.\n",
    "\n",
    "I'll work with different models to find the best solution with the following structure:\n",
    "\n",
    "- Importing libraries\n",
    "- Load the information.\n",
    "- Verify the integrity of the data.\n",
    "- Clean the data.\n",
    "- Analyze the data.\n",
    "- Create a model(s).\n",
    "- Train the model(s).\n",
    "- Find the best result."
   ]
  },
  {
   "cell_type": "markdown",
   "metadata": {},
   "source": [
    "## Importing libraries\n",
    "Importing necessary libraries"
   ]
  },
  {
   "cell_type": "code",
   "execution_count": 14,
   "metadata": {},
   "outputs": [],
   "source": [
    "import pandas as pd\n",
    "import numpy as np\n",
    "from sklearn.model_selection import train_test_split\n",
    "from sklearn.tree import DecisionTreeClassifier\n",
    "from sklearn.ensemble import RandomForestClassifier\n",
    "from sklearn.metrics import accuracy_score\n",
    "from sklearn.linear_model import LogisticRegression"
   ]
  },
  {
   "cell_type": "markdown",
   "metadata": {},
   "source": [
    "Importing datasets"
   ]
  },
  {
   "cell_type": "code",
   "execution_count": 2,
   "metadata": {},
   "outputs": [],
   "source": [
    "df= pd.read_csv('D:/Tripleten/datasets/users_behavior.csv')"
   ]
  },
  {
   "cell_type": "code",
   "execution_count": 3,
   "metadata": {},
   "outputs": [
    {
     "name": "stdout",
     "output_type": "stream",
     "text": [
      "<class 'pandas.core.frame.DataFrame'>\n",
      "RangeIndex: 3214 entries, 0 to 3213\n",
      "Data columns (total 5 columns):\n",
      " #   Column    Non-Null Count  Dtype  \n",
      "---  ------    --------------  -----  \n",
      " 0   calls     3214 non-null   float64\n",
      " 1   minutes   3214 non-null   float64\n",
      " 2   messages  3214 non-null   float64\n",
      " 3   mb_used   3214 non-null   float64\n",
      " 4   is_ultra  3214 non-null   int64  \n",
      "dtypes: float64(4), int64(1)\n",
      "memory usage: 125.7 KB\n"
     ]
    },
    {
     "data": {
      "text/html": [
       "<div>\n",
       "<style scoped>\n",
       "    .dataframe tbody tr th:only-of-type {\n",
       "        vertical-align: middle;\n",
       "    }\n",
       "\n",
       "    .dataframe tbody tr th {\n",
       "        vertical-align: top;\n",
       "    }\n",
       "\n",
       "    .dataframe thead th {\n",
       "        text-align: right;\n",
       "    }\n",
       "</style>\n",
       "<table border=\"1\" class=\"dataframe\">\n",
       "  <thead>\n",
       "    <tr style=\"text-align: right;\">\n",
       "      <th></th>\n",
       "      <th>calls</th>\n",
       "      <th>minutes</th>\n",
       "      <th>messages</th>\n",
       "      <th>mb_used</th>\n",
       "      <th>is_ultra</th>\n",
       "    </tr>\n",
       "  </thead>\n",
       "  <tbody>\n",
       "    <tr>\n",
       "      <th>1066</th>\n",
       "      <td>90</td>\n",
       "      <td>653.62</td>\n",
       "      <td>0</td>\n",
       "      <td>15697.77</td>\n",
       "      <td>0</td>\n",
       "    </tr>\n",
       "    <tr>\n",
       "      <th>68</th>\n",
       "      <td>138</td>\n",
       "      <td>1009.11</td>\n",
       "      <td>64</td>\n",
       "      <td>27807.13</td>\n",
       "      <td>1</td>\n",
       "    </tr>\n",
       "    <tr>\n",
       "      <th>1016</th>\n",
       "      <td>24</td>\n",
       "      <td>178.32</td>\n",
       "      <td>14</td>\n",
       "      <td>4674.47</td>\n",
       "      <td>0</td>\n",
       "    </tr>\n",
       "    <tr>\n",
       "      <th>2534</th>\n",
       "      <td>65</td>\n",
       "      <td>463.79</td>\n",
       "      <td>23</td>\n",
       "      <td>24868.65</td>\n",
       "      <td>0</td>\n",
       "    </tr>\n",
       "    <tr>\n",
       "      <th>1136</th>\n",
       "      <td>89</td>\n",
       "      <td>602.81</td>\n",
       "      <td>56</td>\n",
       "      <td>19293.91</td>\n",
       "      <td>0</td>\n",
       "    </tr>\n",
       "    <tr>\n",
       "      <th>3129</th>\n",
       "      <td>51</td>\n",
       "      <td>325.48</td>\n",
       "      <td>52</td>\n",
       "      <td>17477.23</td>\n",
       "      <td>0</td>\n",
       "    </tr>\n",
       "    <tr>\n",
       "      <th>2504</th>\n",
       "      <td>111</td>\n",
       "      <td>758.66</td>\n",
       "      <td>47</td>\n",
       "      <td>16045.16</td>\n",
       "      <td>0</td>\n",
       "    </tr>\n",
       "    <tr>\n",
       "      <th>117</th>\n",
       "      <td>80</td>\n",
       "      <td>588.57</td>\n",
       "      <td>47</td>\n",
       "      <td>9863.23</td>\n",
       "      <td>0</td>\n",
       "    </tr>\n",
       "    <tr>\n",
       "      <th>1495</th>\n",
       "      <td>63</td>\n",
       "      <td>408.68</td>\n",
       "      <td>63</td>\n",
       "      <td>24970.26</td>\n",
       "      <td>0</td>\n",
       "    </tr>\n",
       "    <tr>\n",
       "      <th>368</th>\n",
       "      <td>31</td>\n",
       "      <td>185.63</td>\n",
       "      <td>101</td>\n",
       "      <td>14344.72</td>\n",
       "      <td>0</td>\n",
       "    </tr>\n",
       "  </tbody>\n",
       "</table>\n",
       "</div>"
      ],
      "text/plain": [
       "      calls  minutes  messages   mb_used  is_ultra\n",
       "1066     90   653.62         0  15697.77         0\n",
       "68      138  1009.11        64  27807.13         1\n",
       "1016     24   178.32        14   4674.47         0\n",
       "2534     65   463.79        23  24868.65         0\n",
       "1136     89   602.81        56  19293.91         0\n",
       "3129     51   325.48        52  17477.23         0\n",
       "2504    111   758.66        47  16045.16         0\n",
       "117      80   588.57        47   9863.23         0\n",
       "1495     63   408.68        63  24970.26         0\n",
       "368      31   185.63       101  14344.72         0"
      ]
     },
     "execution_count": 3,
     "metadata": {},
     "output_type": "execute_result"
    }
   ],
   "source": [
    "df.info()\n",
    "df['calls'] = df['calls'].astype('Int64')\n",
    "df['messages'] = df['messages'].astype('Int64')\n",
    "df.sample(10)"
   ]
  },
  {
   "cell_type": "code",
   "execution_count": 4,
   "metadata": {},
   "outputs": [
    {
     "data": {
      "text/html": [
       "<div>\n",
       "<style scoped>\n",
       "    .dataframe tbody tr th:only-of-type {\n",
       "        vertical-align: middle;\n",
       "    }\n",
       "\n",
       "    .dataframe tbody tr th {\n",
       "        vertical-align: top;\n",
       "    }\n",
       "\n",
       "    .dataframe thead th {\n",
       "        text-align: right;\n",
       "    }\n",
       "</style>\n",
       "<table border=\"1\" class=\"dataframe\">\n",
       "  <thead>\n",
       "    <tr style=\"text-align: right;\">\n",
       "      <th></th>\n",
       "      <th>calls</th>\n",
       "      <th>minutes</th>\n",
       "      <th>messages</th>\n",
       "      <th>mb_used</th>\n",
       "      <th>is_ultra</th>\n",
       "    </tr>\n",
       "  </thead>\n",
       "  <tbody>\n",
       "    <tr>\n",
       "      <th>count</th>\n",
       "      <td>3214.0</td>\n",
       "      <td>3214.000000</td>\n",
       "      <td>3214.0</td>\n",
       "      <td>3214.000000</td>\n",
       "      <td>3214.000000</td>\n",
       "    </tr>\n",
       "    <tr>\n",
       "      <th>mean</th>\n",
       "      <td>63.038892</td>\n",
       "      <td>438.208787</td>\n",
       "      <td>38.281269</td>\n",
       "      <td>17207.673836</td>\n",
       "      <td>0.306472</td>\n",
       "    </tr>\n",
       "    <tr>\n",
       "      <th>std</th>\n",
       "      <td>33.236368</td>\n",
       "      <td>234.569872</td>\n",
       "      <td>36.148326</td>\n",
       "      <td>7570.968246</td>\n",
       "      <td>0.461100</td>\n",
       "    </tr>\n",
       "    <tr>\n",
       "      <th>min</th>\n",
       "      <td>0.0</td>\n",
       "      <td>0.000000</td>\n",
       "      <td>0.0</td>\n",
       "      <td>0.000000</td>\n",
       "      <td>0.000000</td>\n",
       "    </tr>\n",
       "    <tr>\n",
       "      <th>25%</th>\n",
       "      <td>40.0</td>\n",
       "      <td>274.575000</td>\n",
       "      <td>9.0</td>\n",
       "      <td>12491.902500</td>\n",
       "      <td>0.000000</td>\n",
       "    </tr>\n",
       "    <tr>\n",
       "      <th>50%</th>\n",
       "      <td>62.0</td>\n",
       "      <td>430.600000</td>\n",
       "      <td>30.0</td>\n",
       "      <td>16943.235000</td>\n",
       "      <td>0.000000</td>\n",
       "    </tr>\n",
       "    <tr>\n",
       "      <th>75%</th>\n",
       "      <td>82.0</td>\n",
       "      <td>571.927500</td>\n",
       "      <td>57.0</td>\n",
       "      <td>21424.700000</td>\n",
       "      <td>1.000000</td>\n",
       "    </tr>\n",
       "    <tr>\n",
       "      <th>max</th>\n",
       "      <td>244.0</td>\n",
       "      <td>1632.060000</td>\n",
       "      <td>224.0</td>\n",
       "      <td>49745.730000</td>\n",
       "      <td>1.000000</td>\n",
       "    </tr>\n",
       "  </tbody>\n",
       "</table>\n",
       "</div>"
      ],
      "text/plain": [
       "           calls      minutes   messages       mb_used     is_ultra\n",
       "count     3214.0  3214.000000     3214.0   3214.000000  3214.000000\n",
       "mean   63.038892   438.208787  38.281269  17207.673836     0.306472\n",
       "std    33.236368   234.569872  36.148326   7570.968246     0.461100\n",
       "min          0.0     0.000000        0.0      0.000000     0.000000\n",
       "25%         40.0   274.575000        9.0  12491.902500     0.000000\n",
       "50%         62.0   430.600000       30.0  16943.235000     0.000000\n",
       "75%         82.0   571.927500       57.0  21424.700000     1.000000\n",
       "max        244.0  1632.060000      224.0  49745.730000     1.000000"
      ]
     },
     "execution_count": 4,
     "metadata": {},
     "output_type": "execute_result"
    }
   ],
   "source": [
    "df.describe()"
   ]
  },
  {
   "cell_type": "markdown",
   "metadata": {},
   "source": [
    "df.info shows:\n",
    "- Columns names are OK\n",
    "- Data types for calls and message where change to data type int64\n",
    "- Data has not null values\n",
    "\n",
    "The function df.sample(5) suggests consistency in the data.\n",
    "\n",
    "df.describes shows :\n",
    "calls \n",
    "\n"
   ]
  },
  {
   "cell_type": "markdown",
   "metadata": {},
   "source": [
    "## Preparing the training dataset \n",
    "\n",
    "The data will be segmented in validation data, training data, and testing data as a solution for not possesing another independent dataset. "
   ]
  },
  {
   "cell_type": "code",
   "execution_count": 5,
   "metadata": {},
   "outputs": [],
   "source": [
    "features = df.drop('is_ultra', axis=1)\n",
    "target =  df['is_ultra']\n",
    "\n",
    "# Splitting the data into training (60%) and temporary data (40%)\n",
    "X_train, X_temp, y_train, y_temp = train_test_split(features,target, train_size=0.6, random_state=54321)\n",
    "\n",
    "# Further splitting the temporary data into validation (20%) and test (20%)\n",
    "X_val, X_test, y_val, y_test = train_test_split( X_temp, y_temp, train_size=0.5, random_state=54321)\n"
   ]
  },
  {
   "cell_type": "markdown",
   "metadata": {},
   "source": [
    "## Implementing machinge learning for classification algoritm\n",
    "\n",
    "In this project we will find the best MSE (mean squared error) in three different clasiffication algorithms.\n",
    "\n",
    "- Decision Tree\n",
    "- Random Forest\n",
    "- Logistic Regression"
   ]
  },
  {
   "cell_type": "markdown",
   "metadata": {},
   "source": [
    "## Decision Tree Classifier"
   ]
  },
  {
   "cell_type": "markdown",
   "metadata": {},
   "source": [
    "First we will iterate the Decission Tree Classifier to obtain the best score and depth to use it with our test dataset. I will be necessary to use the train dataset and the validation dataset"
   ]
  },
  {
   "cell_type": "code",
   "execution_count": 6,
   "metadata": {},
   "outputs": [
    {
     "name": "stdout",
     "output_type": "stream",
     "text": [
      "Best score 0.7822706065318819 and best depth 10\n"
     ]
    }
   ],
   "source": [
    "best_score = 0\n",
    "best_depth = 0 \n",
    "\n",
    "for depth in range(1,200): \n",
    "    model = DecisionTreeClassifier(max_depth=depth, random_state=54321)\n",
    "    model.fit(X_train,y_train)\n",
    "    predictions = model.predict(X_val)\n",
    "    val_score = accuracy_score(y_val, predictions)\n",
    "    # print(val_score)\n",
    "    if val_score > best_score:\n",
    "        best_score = val_score\n",
    "        best_depth = depth\n",
    "\n",
    "print(f'Best score {best_score} and best depth {best_depth}')"
   ]
  },
  {
   "cell_type": "markdown",
   "metadata": {},
   "source": [
    "Now it's time to compare the model through our test dataset"
   ]
  },
  {
   "cell_type": "code",
   "execution_count": 7,
   "metadata": {},
   "outputs": [
    {
     "name": "stdout",
     "output_type": "stream",
     "text": [
      "The score obtained in this model is 0.8055987558320373\n"
     ]
    }
   ],
   "source": [
    "model = DecisionTreeClassifier(max_depth=10, random_state=54321)\n",
    "model.fit( X_train, y_train)\n",
    "predictions = model.predict(X_test)\n",
    "score = accuracy_score(y_test, predictions)\n",
    "print(f'The score obtained in this model is {score}')"
   ]
  },
  {
   "cell_type": "markdown",
   "metadata": {},
   "source": [
    "## Random Forest Classifier"
   ]
  },
  {
   "cell_type": "code",
   "execution_count": 11,
   "metadata": {},
   "outputs": [
    {
     "name": "stdout",
     "output_type": "stream",
     "text": [
      "The best score is 0.7822706065318819, with a n_estimators of 11 and best_deep of 8\n"
     ]
    }
   ],
   "source": [
    "\n",
    "best_depth= 0\n",
    "best_score = 0\n",
    "best_est = 0\n",
    "\n",
    "for est in range(1, 100, 10):\n",
    "    for depth in range (1, 20):\n",
    "        rfc = RandomForestClassifier(n_estimators = est, max_depth= depth, random_state=54321)\n",
    "        rfc.fit(X_train, y_train)\n",
    "        predictions = rfc.predict(X_val)\n",
    "        val_score = accuracy_score(y_val, predictions)\n",
    "        # print(val_score)\n",
    "\n",
    "        if val_score > best_score:\n",
    "            best_depth= depth\n",
    "            best_score = val_score\n",
    "            best_est = est\n",
    "\n",
    "print(f'The best score is {val_score}, with a n_estimators of {best_est} and best_deep of {best_depth}')\n"
   ]
  },
  {
   "cell_type": "code",
   "execution_count": 13,
   "metadata": {},
   "outputs": [
    {
     "name": "stdout",
     "output_type": "stream",
     "text": [
      "The best score for this model is 0.8367029548989113, with a n_estimators of 11 and best_deep of 8\n"
     ]
    }
   ],
   "source": [
    "rfc = RandomForestClassifier(n_estimators = best_est, max_depth=best_depth, random_state=54321)\n",
    "rfc.fit(X_train,y_train)\n",
    "predictions = rfc.predict(X_test)\n",
    "score = accuracy_score(y_test, predictions)\n",
    "print(f'The best score for this model is {score}, with a n_estimators of {best_est} and best_deep of {best_depth}')"
   ]
  },
  {
   "cell_type": "markdown",
   "metadata": {},
   "source": [
    "## Logistic Regression"
   ]
  },
  {
   "cell_type": "code",
   "execution_count": null,
   "metadata": {},
   "outputs": [],
   "source": []
  },
  {
   "cell_type": "code",
   "execution_count": 16,
   "metadata": {},
   "outputs": [
    {
     "name": "stdout",
     "output_type": "stream",
     "text": [
      "El score para el data de validación es: 0.6780715396578538\n",
      "El score para el data de validación es: 0.7402799377916018\n"
     ]
    }
   ],
   "source": [
    "lr = LogisticRegression(random_state=54321, solver='liblinear')\n",
    "lr.fit(X_train,y_train)\n",
    "\n",
    "# Evaluating Validation Dataset\n",
    "validation_predictions = lr.predict(X_val)\n",
    "validation_score = accuracy_score(y_val, validation_predictions)\n",
    "print(f'El score para el data de validación es: {validation_score}')\n",
    "\n",
    "# Evaluating Test Dataset\n",
    "test_predictions = lr.predict(X_test)\n",
    "test_score = accuracy_score(y_test, test_predictions)\n",
    "print(f'El score para el data de validación es: {test_score}')\n"
   ]
  },
  {
   "cell_type": "markdown",
   "metadata": {},
   "source": [
    "Conclusion"
   ]
  }
 ],
 "metadata": {
  "kernelspec": {
   "display_name": ".venv",
   "language": "python",
   "name": "python3"
  },
  "language_info": {
   "codemirror_mode": {
    "name": "ipython",
    "version": 3
   },
   "file_extension": ".py",
   "mimetype": "text/x-python",
   "name": "python",
   "nbconvert_exporter": "python",
   "pygments_lexer": "ipython3",
   "version": "3.12.0"
  }
 },
 "nbformat": 4,
 "nbformat_minor": 2
}
